{
 "cells": [
  {
   "cell_type": "markdown",
   "metadata": {
    "id": "GT4IytkJMNa-"
   },
   "source": [
    "\n",
    "1. What is indentation error? Why indentation is important? Give one simple example?\n",
    "\n",
    "Ans:An indentation in Python is used to segregate a singular code into identifiable groups of functionally similar statements.That is an Indentation refers to the spaces at the beginning of a code line. The indentation error can occur when you have unintentionally placed an indentation in the wrong place or there is an absence of tabs or white spaces between lines of code.\n",
    "\n",
    "Since Python adheres to strict guidelines to arrange written codes ,Indentation is a very important concept of Python because without proper indenting the Python code, you will end up seeing IndentationError and the code will not get compiled.\n",
    "For example, the first line of Python should not be indented. \n",
    "eg: if 5 > 2:\n",
    "print(\"Five is greater than two!\")  #IndentationError: expected an indented block\n",
    "\n",
    "2. Correct the following code and write the comment where you made the correction?\n",
    "\n",
    "  ```python\n",
    "  class_started = bool(input(\"Hey friend, is class started?: [0-False/1-True]\"))\n",
    "\n",
    "  if class_started:\n",
    "      print(\"Since class started...\")\n",
    "      print(\"Lets concentrate\")\n",
    "  else:\n",
    "      print(\"Since class is not started...\")\n",
    "      print(\"let's revise\")    \n",
    "  ```\n",
    "\n",
    "  **HINT:** Refer your data type conversion class\n",
    "  \n",
    "Ans: \n",
    "\n",
    "class_started = bool(input(\"Hey friend, is class started?: [0-False/1-True]\"))\n",
    "\n",
    "if class_started:                            #removed white spaces infront of if statement\n",
    "    print(\"Since class started...\")       \n",
    "    print(\"Lets concentrate\")                #alligned print statement\n",
    "else:                                        #removed white spaces infront of else statement\n",
    "    print(\"Since class is not started...\")\n",
    "    print(\"let's revise\")                    #alligned print statement \n",
    "3. Use if else condition to verify that dataype of `input()` method in python is always string.\n",
    "\n",
    "def check_is_digit(input_str):\n",
    "    if input_str.strip().isdigit():\n",
    "        print(\"User input is Number\")\n",
    "    else:\n",
    "        print(\"User input is string\")\n",
    "\n",
    "\n",
    "num1 = input(\"Enter number and hit enter\")\n",
    "check_is_digit(num1)\n",
    "\n",
    "num2 = input(\"Enter number and hit enter\")\n",
    "check_is_digit(num2)\n",
    "\n",
    "4. Take 3 variables and assign integer values to them. Find the largest variable, by only using the if and else conditions.\n",
    "\n",
    "num1 = float(input(\"Enter first number: \"))\n",
    "num2 = float(input(\"Enter second number: \"))\n",
    "num3 = float(input(\"Enter third number: \"))\n",
    "\n",
    "if (num1 >= num2) and (num1 >= num3):\n",
    "   largest = num1\n",
    "elif (num2 >= num1) and (num2 >= num3):\n",
    "   largest = num2\n",
    "else:\n",
    "   largest = num3\n",
    "\n",
    "print(\"The largest number is\", largest)\n",
    "\n",
    "5. What would be the solution?\n",
    "    1. True\n",
    "    2. False\n",
    "\n",
    "    ```python\n",
    "    a = 6\n",
    "    b = 10\n",
    "    print( not ( not a == 10 or not b == 10) )\n",
    "    ```\n",
    "  Ans: False  \n",
    "6. Find the answer as well as find out the reason behind the result? -\n",
    "    - case 1:\n",
    "        ```python\n",
    "        A = 5.0\n",
    "        B = 10/2\n",
    "        print(A is B)       \n",
    "        ```\n",
    "    - case 2:\n",
    "        ```python\n",
    "        A = 5.0\n",
    "        B = int(10/2)\n",
    "        print(A is B)\n",
    "        ```\n",
    "    - case 3:\n",
    "        ```python\n",
    "        A = 5.0\n",
    "        B = float(10/2)\n",
    "        print(A is B)\n",
    "        ```\n",
    "case 1 \n",
    "A = 5.0\n",
    "B = 10/2\n",
    "print(A is B)\n",
    "Ans: False.  inverted comma is missing inside print statement.\n",
    "A=5.0 and B=10/2 =5.0 are same\n",
    "\n",
    "case 2 \n",
    "A=5.0 is a float number and B=int(10/2)= 5 is an integer number.\n",
    "Both are not same\n",
    "\n",
    "case 3:\n",
    "A=5.0 and B= float(10/2)=5.0 are same "
   ]
  },
  {
   "cell_type": "markdown",
   "metadata": {
    "id": "cyOfbWCdOjEr"
   },
   "source": [
    "# ASSIGNMENTS - Compulsory\n",
    "## Send it before 0000 hrs IST or 12 AM Wednesday\n",
    "\n",
    "## NOTE: Evaluation will be done before next class.\n",
    "\n",
    "## HOW TO SUBMIT: -\n",
    "Download this notebook, Solve it and upload in the google form given in the mail."
   ]
  },
  {
   "cell_type": "markdown",
   "metadata": {
    "id": "a_4kbBVWNY-4"
   },
   "source": [
    "### Try to understand the following examples and answer the question based on it - \n",
    "    \n",
    "**Arithmatic Operators**\n",
    "\n",
    "|Operation|Meaning|\n",
    "|:-:|:-:|\n",
    "| **+** |addition|\n",
    "| **-** |subtraction|\n",
    "| **\\*** |multiplication|\n",
    "| **/** |true division|\n",
    "| **//** |integer division|\n",
    "| **%** |the modulo operator|\n",
    "\n",
    "\n",
    "Here `+`, `-`, `*`, `/` are regular arithmatic operators. Lets look at the `//` and `%` operators\n",
    "\n",
    "Usecase or examples - \n",
    "    \n",
    "```python\n",
    "var_a = 5\n",
    "var_b = 25\n",
    "integer_division = var_b // var_a\n",
    "print(f\"integer division: {var_b}/{var_a}={integer_division}\")\n",
    "```\n",
    "\n",
    "OUTPUT: integer division: 25/5=5\n",
    "\n",
    "```python\n",
    "var_a = 3\n",
    "var_b = 25\n",
    "integer_division = var_b // var_a\n",
    "print(f\"integer division: {var_b}/{var_a}={integer_division}\")\n",
    "```\n",
    "\n",
    "OUTPUT: integer division: 25/3=8\n",
    "\n",
    "```python\n",
    "var_a = 5\n",
    "var_b = 25\n",
    "remainder = var_b % var_a\n",
    "print(f\"remainder: {var_b}/{var_a} is {remainder}\")\n",
    "```\n",
    "\n",
    "OUTPUT: remainder: 25/5 is 0\n",
    "\n",
    "```python\n",
    "var_a = 3\n",
    "var_b = 25\n",
    "remainder = var_b % var_a\n",
    "print(f\"remainder: {var_b}/{var_a} is {remainder}\")\n",
    "```\n",
    "\n",
    "OUTPUT: remainder: 25/3 is 1\n",
    "\n"
   ]
  },
  {
   "cell_type": "markdown",
   "metadata": {
    "id": "v288WPlMNxmM"
   },
   "source": [
    "### Answer below questions on the above theory - \n",
    "\n",
    "7. Write a program that asks the user to enter a number. You should print out a message to the user, either “That number is divisible by either 3 or 5”, or “That number is not divisible by either 3 or 5”. Be sure to consider the data type of the input you are taking in from the user. Use a single if/else block to solve this problem.\n",
    "\n",
    "8. Take user input for length and width. Then calculate the area of rectangle. Also print as per length and width whether its a square of rectangle.\n",
    "\n",
    "9. Take two variable radius_1 and radius_2 and calculate the area of circle_1 and circle_2. Also print which circle has large area. If area is equal then print area is equal.\n",
    "\n",
    "10. Check whether a year is leap year or not. Use nested if...else to solve this problem. A leap year is exactly divisible by 4 except for century years (years ending with 00). The century year is a leap year only if it is perfectly divisible by 400."
   ]
  },
  {
   "cell_type": "code",
   "execution_count": 33,
   "metadata": {
    "id": "XumyqFp6MHnv"
   },
   "outputs": [
    {
     "name": "stdout",
     "output_type": "stream",
     "text": [
      "Enter that number is divisible by either 3 or 5: 11\n",
      "number is  not divisible by either 3 or 5\n"
     ]
    }
   ],
   "source": [
    "#Q.7 Write a program that asks the user to enter a number. You should print out a message to the user, either “That number is divisible by either 3 or 5”, or “That number is not divisible by either 3 or 5”. Be sure to consider the data type of the input you are taking in from the user.\n",
    "#Use a single if/else block to solve this problem.\n",
    "\n",
    "n = float(input(\"Enter that number is divisible by either 3 or 5: \"))\n",
    "if n%3==0 or n%5==0: \n",
    "    print(\"number is divisible by either 3 or 5\")\n",
    "else:\n",
    "    print (\"number is  not divisible by either 3 or 5\")"
   ]
  },
  {
   "cell_type": "code",
   "execution_count": 37,
   "metadata": {},
   "outputs": [
    {
     "name": "stdout",
     "output_type": "stream",
     "text": [
      "Enter Length: 13\n",
      "Enter Width: 13\n",
      "169.0\n",
      " It is an area of a square\n"
     ]
    }
   ],
   "source": [
    "#Q8 Take user input for length and width. Then calculate the area of rectangle. \n",
    "#Also print as per length and width whether its a square of rectangle.\n",
    "x = float(input(\"Enter Length: \"))\n",
    "y = float(input(\"Enter Width: \"))\n",
    "\n",
    "Area=x*y\n",
    "print(Area)\n",
    "if x==y :\n",
    "    print(\" It is an area of a square\")\n",
    "else:\n",
    "    print (\"It is an area of a rectangle\")"
   ]
  },
  {
   "cell_type": "code",
   "execution_count": 40,
   "metadata": {},
   "outputs": [
    {
     "name": "stdout",
     "output_type": "stream",
     "text": [
      "Radius_1: 4\n",
      "50.24\n",
      "Radius_2: 4\n",
      "50.24\n",
      "Both Circle has equal area\n"
     ]
    }
   ],
   "source": [
    "#Q9. Take two variable radius_1 and radius_2 and calculate the area of circle_1 and circle_2.\n",
    "#Also print which circle has large area. If area is equal then print area is equal.\n",
    "x = float(input(\"Radius_1: \"))\n",
    "\n",
    "pi=3.14\n",
    "C1 = pi*x*x\n",
    "print (C1)\n",
    "y = float(input(\"Radius_2: \"))\n",
    "C2 = pi*y*y\n",
    "print(C2)\n",
    "if C1>C2 :\n",
    "    print(\"Circle 1 has large area\")\n",
    "elif C1==C2:\n",
    "    print (\"Both Circle has equal area\")\n",
    "else:\n",
    "    print(\"Circle 2 has large area\")"
   ]
  },
  {
   "cell_type": "code",
   "execution_count": 42,
   "metadata": {},
   "outputs": [
    {
     "name": "stdout",
     "output_type": "stream",
     "text": [
      "Enter a year: 2002\n",
      "2002 is not a leap year\n"
     ]
    }
   ],
   "source": [
    "#Q10. Check whether a year is leap year or not. Use nested if...else to solve this problem. \n",
    "#A leap year is exactly divisible by 4 except for century years (years ending with 00). \n",
    "#The century year is a leap year only if it is perfectly divisible by 400.\n",
    "\n",
    "\n",
    "# To get year (integer input) from the user\n",
    "year = int(input(\"Enter a year: \"))\n",
    "\n",
    "# divided by 100 means century year (ending with 00)\n",
    "# century year divided by 400 is leap year\n",
    "if (year % 400 == 0) and (year % 100 == 0):\n",
    "    print(\"{0} is a leap year\".format(year))\n",
    "\n",
    "# not divided by 100 means not a century year\n",
    "# year divided by 4 is a leap year\n",
    "elif (year % 4 ==0) and (year % 100 != 0):\n",
    "    print(\"{0} is a leap year\".format(year))\n",
    "\n",
    "# if not divided by both 400 (century year) and 4 (not century year)\n",
    "# year is not leap year\n",
    "else:\n",
    "    print(\"{0} is not a leap year\".format(year))"
   ]
  },
  {
   "cell_type": "code",
   "execution_count": null,
   "metadata": {},
   "outputs": [],
   "source": []
  }
 ],
 "metadata": {
  "colab": {
   "collapsed_sections": [],
   "provenance": []
  },
  "kernelspec": {
   "display_name": "Python 3",
   "language": "python",
   "name": "python3"
  },
  "language_info": {
   "codemirror_mode": {
    "name": "ipython",
    "version": 3
   },
   "file_extension": ".py",
   "mimetype": "text/x-python",
   "name": "python",
   "nbconvert_exporter": "python",
   "pygments_lexer": "ipython3",
   "version": "3.8.5"
  }
 },
 "nbformat": 4,
 "nbformat_minor": 1
}
